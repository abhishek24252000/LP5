{
  "nbformat": 4,
  "nbformat_minor": 0,
  "metadata": {
    "colab": {
      "provenance": []
    },
    "kernelspec": {
      "name": "python3",
      "display_name": "Python 3"
    },
    "language_info": {
      "name": "python"
    },
    "accelerator": "GPU",
    "gpuClass": "standard"
  },
  "cells": [
    {
      "cell_type": "code",
      "execution_count": 1,
      "metadata": {
        "colab": {
          "base_uri": "https://localhost:8080/"
        },
        "id": "Ea8Htxfy9t19",
        "outputId": "5572687b-2f9f-4ba7-97b2-60625722ad77"
      },
      "outputs": [
        {
          "output_type": "stream",
          "name": "stdout",
          "text": [
            "Cloning into 'nvcc4jupyter'...\n",
            "remote: Enumerating objects: 48, done.\u001b[K\n",
            "remote: Counting objects: 100% (3/3), done.\u001b[K\n",
            "remote: Compressing objects: 100% (3/3), done.\u001b[K\n",
            "remote: Total 48 (delta 0), reused 0 (delta 0), pack-reused 45\u001b[K\n",
            "Unpacking objects: 100% (48/48), 8.29 KiB | 471.00 KiB/s, done.\n",
            "Looking in indexes: https://pypi.org/simple, https://us-python.pkg.dev/colab-wheels/public/simple/\n",
            "Collecting git+file:/content/nvcc4jupyter\n",
            "  Cloning file:///content/nvcc4jupyter to /tmp/pip-req-build-nnxx7z88\n",
            "  Running command git clone --filter=blob:none --quiet file:///content/nvcc4jupyter /tmp/pip-req-build-nnxx7z88\n",
            "  warning: filtering not recognized by server, ignoring\n",
            "  Resolved file:///content/nvcc4jupyter to commit aac710a35f52bb78ab34d2e52517237941399eff\n",
            "  Preparing metadata (setup.py) ... \u001b[?25l\u001b[?25hdone\n",
            "Building wheels for collected packages: NVCCPlugin\n",
            "  Building wheel for NVCCPlugin (setup.py) ... \u001b[?25l\u001b[?25hdone\n",
            "  Created wheel for NVCCPlugin: filename=NVCCPlugin-0.0.2-py3-none-any.whl size=4287 sha256=dc1984cdfaed4b41f6a0ff137b6650656f130016a3817f7d4e013ed81112653f\n",
            "  Stored in directory: /tmp/pip-ephem-wheel-cache-doqo70pf/wheels/fd/06/13/b58cc0bebf3cd854f673ad262798e45f5ab5a6624b569b745b\n",
            "Successfully built NVCCPlugin\n",
            "Installing collected packages: NVCCPlugin\n",
            "Successfully installed NVCCPlugin-0.0.2\n"
          ]
        }
      ],
      "source": [
        "!git clone https://github.com/andreinechaev/nvcc4jupyter\n",
        "!pip install git+file:/content/nvcc4jupyter"
      ]
    },
    {
      "cell_type": "code",
      "source": [
        "%load_ext nvcc_plugin"
      ],
      "metadata": {
        "colab": {
          "base_uri": "https://localhost:8080/"
        },
        "id": "S78caJKE9zFs",
        "outputId": "0f0c81a0-68bd-4a2b-c99b-27fd8ceb8a32"
      },
      "execution_count": 2,
      "outputs": [
        {
          "output_type": "stream",
          "name": "stdout",
          "text": [
            "created output directory at /content/src\n",
            "Out bin /content/result.out\n"
          ]
        }
      ]
    },
    {
      "cell_type": "code",
      "source": [
        "%%cu \n",
        "#include <math.h>\n",
        "#include <time.h>\n",
        "#include <iostream>\n",
        "#include \"cuda_runtime.h\"\n",
        "\n",
        "\n",
        "void cpuSum(int* A, int* B, int* C, int N){\n",
        "    for (int i=0; i<N; ++i){\n",
        "        C[i] = A[i] + B[i];\n",
        "    }\n",
        "}\n",
        "\n",
        "__global__ void kernel(int* A, int* B, int* C, int N){\n",
        "    int i = blockDim.x * blockIdx.x + threadIdx.x;\n",
        "    if (i < N){\n",
        "        C[i] = A[i] + B[i];\n",
        "    }\n",
        "}\n",
        "\n",
        "void gpuSum(int* A, int* B, int* C, int N){\n",
        "    \n",
        "    int threadsPerBlock = min(1024, N);\n",
        "    int blocksPerGrid = ceil(double(N) / double(threadsPerBlock));\n",
        "\n",
        "    kernel<<<blocksPerGrid, threadsPerBlock>>>(A, B, C, N);\n",
        "\n",
        "}\n",
        "\n",
        "bool isVectorEqual(int* A, int* B, int N){\n",
        "    for (int i=0; i<N; ++i){\n",
        "        if (A[i] != B[i])   return false; \n",
        "    }\n",
        "    return true;\n",
        "}\n",
        "int main(){\n",
        "    int N = 2e8;\n",
        "    int *A, *B, *C, *D, *d_A, *d_B, *d_C;\n",
        "    int size = N * sizeof(int);\n",
        "\n",
        "    A = (int*)malloc(size);\n",
        "    B = (int*)malloc(size);\n",
        "    C = (int*)malloc(size);\n",
        "    D = (int*)malloc(size);\n",
        "    \n",
        "    \n",
        "    for (int i=0; i<N; ++i){\n",
        "        A[i] = rand() % 1000;\n",
        "        B[i] = rand() % 1000;\n",
        "    }\n",
        "\n",
        "\n",
        "    // CPU\n",
        "    clock_t start, end;\n",
        "\n",
        "    start = clock();\n",
        "    cpuSum(A, B, C, N);\n",
        "    end = clock();\n",
        "\n",
        "    float timeTakenCPU = ((float)(end - start)) / CLOCKS_PER_SEC;\n",
        "    \n",
        "\n",
        "    // GPU\n",
        "    cudaMalloc(&d_A, size);\n",
        "    cudaMalloc(&d_B, size);\n",
        "    cudaMalloc(&d_C, size);\n",
        "    \n",
        "    cudaMemcpy(d_A, A, size, cudaMemcpyHostToDevice);\n",
        "    cudaMemcpy(d_B, B, size, cudaMemcpyHostToDevice);\n",
        "\n",
        "    start = clock();\n",
        "    gpuSum(d_A, d_B, d_C, N);\n",
        "    cudaDeviceSynchronize();\n",
        "    cudaMemcpy(D, d_C, size, cudaMemcpyDeviceToHost);\n",
        "    \n",
        "    end = clock();\n",
        "    float timeTakenGPU = ((float)(end - start)) / CLOCKS_PER_SEC;\n",
        "\n",
        "    // free device memory\n",
        "    cudaFree(d_A);\n",
        "    cudaFree(d_B);\n",
        "    cudaFree(d_C);\n",
        "\n",
        "    // Verify result\n",
        "    bool success = isVectorEqual(C, D, N);\n",
        "\n",
        "    printf(\"CPU Time: %f \\n\", timeTakenCPU);\n",
        "    printf(\"GPU Time: %f \\n\", timeTakenGPU);\n",
        "    printf(\"Speed Up: %f \\n\", timeTakenCPU/timeTakenGPU);\n",
        "    printf(\"Verification: %s \\n\", success ? \"true\" : \"false\");\n",
        "    \n",
        "}"
      ],
      "metadata": {
        "colab": {
          "base_uri": "https://localhost:8080/"
        },
        "id": "tSMTts3R98iw",
        "outputId": "2877c86f-a845-4349-a69a-d10caa67fd19"
      },
      "execution_count": 3,
      "outputs": [
        {
          "output_type": "stream",
          "name": "stdout",
          "text": [
            "CPU Time: 0.958337 \n",
            "GPU Time: 0.536362 \n",
            "Speed Up: 1.786736 \n",
            "Verification: true \n",
            "\n"
          ]
        }
      ]
    },
    {
      "cell_type": "code",
      "source": [
        "8u"
      ],
      "metadata": {
        "id": "ih6h7NbP9-_a"
      },
      "execution_count": null,
      "outputs": []
    },
    {
      "cell_type": "code",
      "source": [],
      "metadata": {
        "id": "_y6ce9TYqCXh"
      },
      "execution_count": null,
      "outputs": []
    }
  ]
}